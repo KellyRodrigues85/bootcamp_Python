{
 "cells": [
  {
   "cell_type": "code",
   "execution_count": 1,
   "id": "d61ae966",
   "metadata": {},
   "outputs": [],
   "source": [
    "import pandas as pd"
   ]
  },
  {
   "cell_type": "code",
   "execution_count": 13,
   "id": "b46b029f",
   "metadata": {},
   "outputs": [
    {
     "ename": "SyntaxError",
     "evalue": "invalid syntax (651115809.py, line 1)",
     "output_type": "error",
     "traceback": [
      "\u001b[1;36m  File \u001b[1;32m\"C:\\Users\\User\\AppData\\Local\\Temp\\ipykernel_3292\\651115809.py\"\u001b[1;36m, line \u001b[1;32m1\u001b[0m\n\u001b[1;33m    tabela = pd.read_csv('r'C:\\Users\\User\\Downloads\\Curso\\bootcamp_Python\\01_aula\\Compras.csv', sep = ';'')\u001b[0m\n\u001b[1;37m                            ^\u001b[0m\n\u001b[1;31mSyntaxError\u001b[0m\u001b[1;31m:\u001b[0m invalid syntax\n"
     ]
    }
   ],
   "source": [
    "tabela = pd.read_csv('r'C:\\Users\\User\\Downloads\\Curso\\bootcamp_Python\\01_aula\\Compras.csv', sep = ';'')"
   ]
  },
  {
   "cell_type": "code",
   "execution_count": 11,
   "id": "f86e00c3",
   "metadata": {},
   "outputs": [
    {
     "data": {
      "text/html": [
       "<div>\n",
       "<style scoped>\n",
       "    .dataframe tbody tr th:only-of-type {\n",
       "        vertical-align: middle;\n",
       "    }\n",
       "\n",
       "    .dataframe tbody tr th {\n",
       "        vertical-align: top;\n",
       "    }\n",
       "\n",
       "    .dataframe thead th {\n",
       "        text-align: right;\n",
       "    }\n",
       "</style>\n",
       "<table border=\"1\" class=\"dataframe\">\n",
       "  <thead>\n",
       "    <tr style=\"text-align: right;\">\n",
       "      <th></th>\n",
       "      <th>CódigoCompra;Data;Fornecedor;Produto;Quantidade;ValorUnitário;ValorFinal</th>\n",
       "    </tr>\n",
       "  </thead>\n",
       "  <tbody>\n",
       "    <tr>\n",
       "      <th>0</th>\n",
       "      <td>65014;01/12/2023;Fabrica Hashtag Brasil;Óleo M...</td>\n",
       "    </tr>\n",
       "    <tr>\n",
       "      <th>1</th>\n",
       "      <td>65014;01/12/2023;Fabrica Hashtag Brasil;Kit Em...</td>\n",
       "    </tr>\n",
       "    <tr>\n",
       "      <th>2</th>\n",
       "      <td>65016;01/12/2023;Fabrica Doidona Brasil;Bateri...</td>\n",
       "    </tr>\n",
       "    <tr>\n",
       "      <th>3</th>\n",
       "      <td>65016;01/12/2023;Fabrica Doidona Brasil;Filtro...</td>\n",
       "    </tr>\n",
       "    <tr>\n",
       "      <th>4</th>\n",
       "      <td>65017;01/12/2023;Original Fábrica Brasil;Farol...</td>\n",
       "    </tr>\n",
       "    <tr>\n",
       "      <th>...</th>\n",
       "      <td>...</td>\n",
       "    </tr>\n",
       "    <tr>\n",
       "      <th>4538</th>\n",
       "      <td>69996;26/12/2023;Revenda Argentina;Logo Hashta...</td>\n",
       "    </tr>\n",
       "    <tr>\n",
       "      <th>4539</th>\n",
       "      <td>69996;26/12/2023;Revenda Argentina;Terminal de...</td>\n",
       "    </tr>\n",
       "    <tr>\n",
       "      <th>4540</th>\n",
       "      <td>69996;26/12/2023;Revenda Argentina;Farol Princ...</td>\n",
       "    </tr>\n",
       "    <tr>\n",
       "      <th>4541</th>\n",
       "      <td>69997;26/12/2023;Fabrica Doidona Mexico;Pneus ...</td>\n",
       "    </tr>\n",
       "    <tr>\n",
       "      <th>4542</th>\n",
       "      <td>69997;26/12/2023;Fabrica Doidona Mexico;Kit Em...</td>\n",
       "    </tr>\n",
       "  </tbody>\n",
       "</table>\n",
       "<p>4543 rows × 1 columns</p>\n",
       "</div>"
      ],
      "text/plain": [
       "     CódigoCompra;Data;Fornecedor;Produto;Quantidade;ValorUnitário;ValorFinal\n",
       "0     65014;01/12/2023;Fabrica Hashtag Brasil;Óleo M...                      \n",
       "1     65014;01/12/2023;Fabrica Hashtag Brasil;Kit Em...                      \n",
       "2     65016;01/12/2023;Fabrica Doidona Brasil;Bateri...                      \n",
       "3     65016;01/12/2023;Fabrica Doidona Brasil;Filtro...                      \n",
       "4     65017;01/12/2023;Original Fábrica Brasil;Farol...                      \n",
       "...                                                 ...                      \n",
       "4538  69996;26/12/2023;Revenda Argentina;Logo Hashta...                      \n",
       "4539  69996;26/12/2023;Revenda Argentina;Terminal de...                      \n",
       "4540  69996;26/12/2023;Revenda Argentina;Farol Princ...                      \n",
       "4541  69997;26/12/2023;Fabrica Doidona Mexico;Pneus ...                      \n",
       "4542  69997;26/12/2023;Fabrica Doidona Mexico;Kit Em...                      \n",
       "\n",
       "[4543 rows x 1 columns]"
      ]
     },
     "metadata": {},
     "output_type": "display_data"
    }
   ],
   "source": [
    "display(tabela)"
   ]
  },
  {
   "cell_type": "code",
   "execution_count": null,
   "id": "fbd5a976",
   "metadata": {},
   "outputs": [],
   "source": []
  }
 ],
 "metadata": {
  "kernelspec": {
   "display_name": "Python 3 (ipykernel)",
   "language": "python",
   "name": "python3"
  },
  "language_info": {
   "codemirror_mode": {
    "name": "ipython",
    "version": 3
   },
   "file_extension": ".py",
   "mimetype": "text/x-python",
   "name": "python",
   "nbconvert_exporter": "python",
   "pygments_lexer": "ipython3",
   "version": "3.9.13"
  }
 },
 "nbformat": 4,
 "nbformat_minor": 5
}
