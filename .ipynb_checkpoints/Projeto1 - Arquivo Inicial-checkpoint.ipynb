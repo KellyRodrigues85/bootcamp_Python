{
 "cells": [
  {
   "cell_type": "markdown",
   "id": "a7447279",
   "metadata": {},
   "source": [
    "# Automação de Sistemas e Processos com Python\n",
    "\n",
    "### Desafio:\n",
    "\n",
    "Para controle de custos, todos os dias, seu chefe pede um relatório com todas as compras de mercadorias da empresa.\n",
    "O seu trabalho, como analista, é enviar um e-mail para ele, assim que começar a trabalhar, com o total gasto, a quantidade de produtos compradas e o preço médio dos produtos.\n",
    "\n",
    "E-mail do seu chefe: para o nosso exercício, coloque um e-mail seu como sendo o e-mail do seu chefe<br>\n",
    "Link de acesso ao sistema da empresa: https://pages.hashtagtreinamentos.com/aula1-intensivao-sistema\n",
    "\n",
    "Para resolver isso, vamos usar o pyautogui, uma biblioteca de automação de comandos do mouse e do teclado"
   ]
  },
  {
   "cell_type": "markdown",
   "id": "8d8e708e",
   "metadata": {},
   "source": [
    "# Passo a passo\n",
    "* entrar no sistema da empresa\n",
    "* Fazer login \n",
    "* exporta a base de dados\n",
    "* Calcular os indicadores\n",
    "* enviar email"
   ]
  },
  {
   "cell_type": "code",
   "execution_count": 7,
   "id": "4d416b9d",
   "metadata": {},
   "outputs": [],
   "source": [
    "\n",
    "import pyautogui\n",
    "import time"
   ]
  },
  {
   "cell_type": "code",
   "execution_count": 18,
   "id": "cf217b28",
   "metadata": {},
   "outputs": [],
   "source": [
    "#Entrar no sitema da empresa\n",
    "\n",
    "# colocar um tempo para carregar o navegador\n",
    "\n",
    "pyautogui.PAUSE = 2\n",
    "\n",
    "pyautogui.hotkey(\"ctrl\", \"t\")\n",
    "pyautogui.write ('https://pages.hashtagtreinamentos.com/aula1-intensivao-sistema')\n",
    "pyautogui.press (\"enter\")\n",
    "\n",
    "#Fazer login\n",
    "pyautogui.click(x=655, y=371)\n",
    "pyautogui.write(\"meulogin\")\n",
    "pyautogui.hotkey('tab')\n",
    "pyautogui.write(\"minhasenha\")\n",
    "pyautogui.click(x=709, y=531)\n",
    "\n",
    "time.sleep(3)"
   ]
  },
  {
   "cell_type": "markdown",
   "id": "71d852a6",
   "metadata": {},
   "source": [
    "\n",
    "time.sleep(3)\n",
    "pyautogui.position()"
   ]
  },
  {
   "cell_type": "code",
   "execution_count": null,
   "id": "0a713dac",
   "metadata": {},
   "outputs": [],
   "source": []
  }
 ],
 "metadata": {
  "kernelspec": {
   "display_name": "Python 3 (ipykernel)",
   "language": "python",
   "name": "python3"
  },
  "language_info": {
   "codemirror_mode": {
    "name": "ipython",
    "version": 3
   },
   "file_extension": ".py",
   "mimetype": "text/x-python",
   "name": "python",
   "nbconvert_exporter": "python",
   "pygments_lexer": "ipython3",
   "version": "3.9.13"
  }
 },
 "nbformat": 4,
 "nbformat_minor": 5
}
