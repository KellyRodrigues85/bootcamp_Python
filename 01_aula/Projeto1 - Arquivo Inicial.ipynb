{
 "cells": [
  {
   "cell_type": "markdown",
   "id": "a7447279",
   "metadata": {},
   "source": [
    "# Automação de Sistemas e Processos com Python\n",
    "\n",
    "### Desafio:\n",
    "\n",
    "Para controle de custos, todos os dias, seu chefe pede um relatório com todas as compras de mercadorias da empresa.\n",
    "O seu trabalho, como analista, é enviar um e-mail para ele, assim que começar a trabalhar, com o total gasto, a quantidade de produtos compradas e o preço médio dos produtos.\n",
    "\n",
    "E-mail do seu chefe: para o nosso exercício, coloque um e-mail seu como sendo o e-mail do seu chefe<br>\n",
    "Link de acesso ao sistema da empresa: https://pages.hashtagtreinamentos.com/aula1-intensivao-sistema\n",
    "\n",
    "Para resolver isso, vamos usar o pyautogui, uma biblioteca de automação de comandos do mouse e do teclado"
   ]
  },
  {
   "cell_type": "markdown",
   "id": "ea46fb9b",
   "metadata": {},
   "source": [
    "# Passo a passo\n",
    "* entrar no sistema da empresa\n",
    "* Fazer login \n",
    "* exporta a base de dados\n",
    "* Calcular os indicadores\n",
    "* enviar email"
   ]
  },
  {
   "cell_type": "code",
   "execution_count": 31,
   "id": "23ca0619",
   "metadata": {},
   "outputs": [],
   "source": [
    "\n",
    "import pyautogui\n",
    "import time\n",
    "import pyperclip"
   ]
  },
  {
   "cell_type": "code",
   "execution_count": 32,
   "id": "4e2fe798",
   "metadata": {},
   "outputs": [],
   "source": [
    "#Entrar no sitema da empresa\n",
    "\n",
    "# colocar um tempo para carregar o navegador\n",
    "\n",
    "pyautogui.PAUSE = 2\n",
    "\n",
    "pyautogui.hotkey(\"ctrl\", \"t\")\n",
    "pyautogui.write ('https://pages.hashtagtreinamentos.com/aula1-intensivao-sistema')\n",
    "pyautogui.press (\"enter\")\n",
    "\n",
    "#Fazer login\n",
    "pyautogui.click(x=655, y=371)\n",
    "pyautogui.write(\"meulogin\")\n",
    "pyautogui.hotkey('tab')\n",
    "pyautogui.write(\"minhasenha\")\n",
    "pyautogui.click(x=709, y=531)\n",
    "\n",
    "time.sleep(3)\n",
    "# baixar arquivo\n",
    "pyautogui.click(x=401, y=443)\n",
    "pyautogui.click(x=901, y=197)\n",
    "pyautogui.click(x=985, y=611)\n",
    "time.sleep(3)\n",
    "\n",
    "#salvar arquivo \n",
    "pyautogui.hotkey(\"tab\")\n",
    "pyautogui.hotkey(\"tab\")\n",
    "pyautogui.press('enter')\n"
   ]
  },
  {
   "cell_type": "code",
   "execution_count": 33,
   "id": "3abffd4f",
   "metadata": {},
   "outputs": [],
   "source": [
    "# verificar as coordenadas x, y\n",
    "#time.sleep(5)\n",
    "#pyautogui.position()"
   ]
  },
  {
   "cell_type": "code",
   "execution_count": 34,
   "id": "0e0464a0",
   "metadata": {},
   "outputs": [
    {
     "name": "stdout",
     "output_type": "stream",
     "text": [
      "7254196.58 9715 746.7006258363356\n"
     ]
    }
   ],
   "source": [
    "# passo 4 caulular os indicadores\n",
    "import pandas as pd\n",
    "# sempre adicionar o r antes do local para garantir que vai procurar no local correto usar SEP para o separador de coluna\n",
    "tabela = pd.read_csv(r'C:\\Users\\User\\Downloads\\Curso\\bootcamp_Python/Compras.csv', sep = ';')\n",
    "\n",
    "total_gasto = tabela['ValorFinal'].sum()\n",
    "quantidade = tabela['Quantidade'].sum()\n",
    "preco_medio = total_gasto / quantidade\n",
    "print(total_gasto, quantidade, preco_medio)\n"
   ]
  },
  {
   "cell_type": "code",
   "execution_count": 35,
   "id": "29151fd4",
   "metadata": {},
   "outputs": [],
   "source": [
    "# PASSO 5: Enviar e-mail para o gerente\n",
    "\n",
    "# pausa entre os comandos\n",
    "pyautogui.PAUSE = 2 \n",
    "\n",
    "#entrar no emai.\n",
    "pyautogui.hotkey('ctrl', 't')\n",
    "pyautogui.write('https://mail.google.com/mail/u/0/#inbox')\n",
    "pyautogui.press('enter')\n",
    "\n",
    "#clicar no botão novo email\n",
    "pyautogui.click(x=75, y=210)\n",
    "\n",
    "#preencher as informaçoes\n",
    "pyautogui.write('kellrod@hotmail.com')\n",
    "pyautogui.press('tab') # para selecionar o email\n",
    "\n",
    "pyautogui.press('tab')\n",
    "\n",
    "# o pyautogui.write não aceita caracteres especias então usar pyperclip.copy e depois um ctrl v \n",
    "pyperclip.copy(\"Relatório de Vendas\")\n",
    "pyautogui.hotkey('ctrl', 'v')\n",
    "pyautogui.press('tab')\n",
    "\n",
    "# para digitar o email usar \"\"\" \"\"\" para poder formatar oemail e usar f antes para passar valorea automaticamente\n",
    "texto = f\"\"\"\n",
    "Prezado,\n",
    "\n",
    "Segue o relatório de compras\n",
    "\n",
    "Total Gasto: R$ {total_gasto:,.2f} \n",
    "Quantidade de Produtos: {quantidade:,}\n",
    "Preço Médio: R$ {preco_medio:,.2f}\n",
    "\n",
    "Qualquer dúvida estou a disposição\n",
    "\n",
    "att,\n",
    "\n",
    "\"\"\"\n",
    "pyperclip.copy(texto)               \n",
    "pyautogui.hotkey('ctrl', 'v')\n",
    "\n",
    "#Enviar\n",
    "pyautogui.hotkey('ctrl', 'enter')\n",
    "\n"
   ]
  },
  {
   "cell_type": "code",
   "execution_count": null,
   "id": "b56969a7",
   "metadata": {},
   "outputs": [],
   "source": [
    "\n",
    "    "
   ]
  }
 ],
 "metadata": {
  "kernelspec": {
   "display_name": "Python 3 (ipykernel)",
   "language": "python",
   "name": "python3"
  },
  "language_info": {
   "codemirror_mode": {
    "name": "ipython",
    "version": 3
   },
   "file_extension": ".py",
   "mimetype": "text/x-python",
   "name": "python",
   "nbconvert_exporter": "python",
   "pygments_lexer": "ipython3",
   "version": "3.9.13"
  }
 },
 "nbformat": 4,
 "nbformat_minor": 5
}
